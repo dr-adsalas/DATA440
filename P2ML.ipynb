{
 "cells": [
  {
   "cell_type": "code",
   "execution_count": 2,
   "id": "049a7090-21b1-4de0-bf7e-7022c91fafe2",
   "metadata": {},
   "outputs": [],
   "source": [
    "import pandas as pd\n",
    "from sklearn.model_selection import train_test_split\n",
    "from sklearn.preprocessing import StandardScaler\n",
    "import torch\n",
    "from torch import nn\n",
    "from torch.utils.data import DataLoader, TensorDataset"
   ]
  },
  {
   "cell_type": "code",
   "execution_count": 22,
   "id": "93974c3d-c350-4416-bd91-2c8bb95fdce9",
   "metadata": {},
   "outputs": [],
   "source": [
    "# Load final cleaned dataset\n",
    "df = pd.read_csv(\"merged_fire_weather_dataset_cleaned.csv\")\n",
    "\n",
    "# Log-transform acreage (for Model A)\n",
    "df['Log_Acres_Burned'] = np.log1p(df['Total_Acres_Burned'])"
   ]
  },
  {
   "cell_type": "code",
   "execution_count": 26,
   "id": "bb7d6344-adb9-43c0-ad08-a2e905d2936f",
   "metadata": {},
   "outputs": [],
   "source": [
    "#model A\n",
    "# Feature list\n",
    "feature_cols = [\n",
    "    'T_mean', 'T_max', 'T_min', 'DiurnalRange',\n",
    "    'RH_min', 'Wind_max', 'Precip',\n",
    "    'RedFlag', 'SantaAna', 'PDSI', 'ONI', 'ENSO_Phase_Code'\n",
    "]\n",
    "\n",
    "# Add one-hot encoded station info\n",
    "df = pd.get_dummies(df, columns=['Station'], drop_first=True)\n",
    "feature_cols += [col for col in df.columns if col.startswith(\"Station_\")]\n",
    "\n",
    "X = df[feature_cols].values\n",
    "y = df[['Total_Fires', 'Log_Acres_Burned']].values\n"
   ]
  },
  {
   "cell_type": "code",
   "execution_count": 28,
   "id": "bb7254a9-3586-4583-a49a-83cccbbf9873",
   "metadata": {},
   "outputs": [],
   "source": [
    "# Normalize X\n",
    "scaler = StandardScaler()\n",
    "X_scaled = scaler.fit_transform(X)\n",
    "\n",
    "# Split data\n",
    "X_train, X_val, y_train, y_val = train_test_split(X_scaled, y, test_size=0.2, random_state=42)"
   ]
  },
  {
   "cell_type": "code",
   "execution_count": 30,
   "id": "5cd410eb-9a18-4874-af6e-cacf73180739",
   "metadata": {},
   "outputs": [],
   "source": [
    "import torch\n",
    "from torch import nn\n",
    "from torch.utils.data import TensorDataset, DataLoader\n",
    "\n",
    "# Convert to tensors\n",
    "X_train_tensor = torch.tensor(X_train, dtype=torch.float32)\n",
    "y_train_tensor = torch.tensor(y_train, dtype=torch.float32)\n",
    "X_val_tensor = torch.tensor(X_val, dtype=torch.float32)\n",
    "y_val_tensor = torch.tensor(y_val, dtype=torch.float32)\n",
    "\n",
    "# Loaders\n",
    "train_loader = DataLoader(TensorDataset(X_train_tensor, y_train_tensor), batch_size=32, shuffle=True)\n",
    "val_loader = DataLoader(TensorDataset(X_val_tensor, y_val_tensor), batch_size=32)\n",
    "\n",
    "# Model class\n",
    "class SeriousFireModel(nn.Module):\n",
    "    def __init__(self, input_dim):\n",
    "        super().__init__()\n",
    "        self.net = nn.Sequential(\n",
    "            nn.Linear(input_dim, 128),\n",
    "            nn.BatchNorm1d(128),\n",
    "            nn.ReLU(),\n",
    "            nn.Dropout(0.2),\n",
    "            nn.Linear(128, 64),\n",
    "            nn.ReLU(),\n",
    "            nn.Dropout(0.1),\n",
    "            nn.Linear(64, 2)  # Fires, Log_Acres\n",
    "        )\n",
    "\n",
    "    def forward(self, x):\n",
    "        return self.net(x)\n",
    "\n",
    "model = SeriousFireModel(X_train.shape[1])"
   ]
  },
  {
   "cell_type": "code",
   "execution_count": 32,
   "id": "95784df2-1e47-478c-8434-1a0d31cbbb6c",
   "metadata": {},
   "outputs": [
    {
     "name": "stdout",
     "output_type": "stream",
     "text": [
      "Epoch 0 | Train Loss: 10.1342 | Val Loss: 5.5057\n",
      "Epoch 10 | Train Loss: 1.8009 | Val Loss: 5.1928\n",
      "Epoch 20 | Train Loss: 7.7310 | Val Loss: 5.2735\n",
      "Epoch 30 | Train Loss: 6.1163 | Val Loss: 5.1645\n",
      "Epoch 40 | Train Loss: 5.5123 | Val Loss: 5.1205\n",
      "Epoch 50 | Train Loss: 2.3156 | Val Loss: 5.0376\n",
      "Epoch 60 | Train Loss: 1.4133 | Val Loss: 4.9342\n",
      "Epoch 70 | Train Loss: 0.4780 | Val Loss: 4.9284\n",
      "Epoch 80 | Train Loss: 1.9482 | Val Loss: 5.2991\n",
      "Epoch 90 | Train Loss: 2.2595 | Val Loss: 5.1004\n"
     ]
    }
   ],
   "source": [
    "optimizer = torch.optim.Adam(model.parameters(), lr=0.001)\n",
    "criterion = nn.MSELoss()\n",
    "\n",
    "# Training loop\n",
    "for epoch in range(100):\n",
    "    model.train()\n",
    "    for xb, yb in train_loader:\n",
    "        pred = model(xb)\n",
    "        loss = criterion(pred, yb)\n",
    "        optimizer.zero_grad()\n",
    "        loss.backward()\n",
    "        optimizer.step()\n",
    "\n",
    "    # Validation\n",
    "    model.eval()\n",
    "    with torch.no_grad():\n",
    "        val_pred = model(X_val_tensor)\n",
    "        val_loss = criterion(val_pred, y_val_tensor)\n",
    "\n",
    "    if epoch % 10 == 0:\n",
    "        print(f\"Epoch {epoch} | Train Loss: {loss.item():.4f} | Val Loss: {val_loss.item():.4f}\")"
   ]
  },
  {
   "cell_type": "code",
   "execution_count": 271,
   "id": "d04365de-cae0-420d-ae16-84224ef3d575",
   "metadata": {},
   "outputs": [
    {
     "name": "stdout",
     "output_type": "stream",
     "text": [
      "Fires Prediction:\n",
      "  MAE:  0.29\n",
      "  RMSE: 0.51\n",
      "  R²:   0.051\n",
      "\n",
      "Acres Burned Prediction:\n",
      "  MAE:  5,837.67\n",
      "  RMSE: 30,404.83\n",
      "  R²:   -0.038\n"
     ]
    }
   ],
   "source": [
    "from sklearn.metrics import mean_absolute_error, mean_squared_error, r2_score\n",
    "import numpy as np\n",
    "\n",
    "# Evaluate\n",
    "model.eval()\n",
    "with torch.no_grad():\n",
    "    y_pred_tensor = model(X_val_tensor)\n",
    "\n",
    "# Convert tensors to NumPy\n",
    "y_pred = y_pred_tensor.numpy()\n",
    "y_true = y_val_tensor.numpy()\n",
    "\n",
    "# Split outputs\n",
    "y_true_fires = y_true[:, 0]\n",
    "y_pred_fires = y_pred[:, 0]\n",
    "\n",
    "y_true_log_acres = y_true[:, 1]\n",
    "y_pred_log_acres = y_pred[:, 1]\n",
    "\n",
    "# Optional: transform back to real acres\n",
    "y_true_acres = np.expm1(y_true_log_acres)\n",
    "y_pred_acres = np.expm1(y_pred_log_acres)\n",
    "\n",
    "#Fires\n",
    "mae_fires = mean_absolute_error(y_true_fires, y_pred_fires)\n",
    "rmse_fires = np.sqrt(mean_squared_error(y_true_fires, y_pred_fires))\n",
    "r2_fires = r2_score(y_true_fires, y_pred_fires)\n",
    "\n",
    "# 🌲 Acres Burned\n",
    "mae_acres = mean_absolute_error(y_true_acres, y_pred_acres)\n",
    "rmse_acres = np.sqrt(mean_squared_error(y_true_acres, y_pred_acres))\n",
    "r2_acres = r2_score(y_true_acres, y_pred_acres)\n",
    "\n",
    "# Output\n",
    "print(\"Fires Prediction:\")\n",
    "print(f\"  MAE:  {mae_fires:.2f}\")\n",
    "print(f\"  RMSE: {rmse_fires:.2f}\")\n",
    "print(f\"  R²:   {r2_fires:.3f}\")\n",
    "\n",
    "print(\"\\nAcres Burned Prediction:\")\n",
    "print(f\"  MAE:  {mae_acres:,.2f}\")\n",
    "print(f\"  RMSE: {rmse_acres:,.2f}\")\n",
    "print(f\"  R²:   {r2_acres:.3f}\")"
   ]
  },
  {
   "cell_type": "code",
   "execution_count": 42,
   "id": "918fb1ac-feed-44d5-98ae-24c88bed29ce",
   "metadata": {},
   "outputs": [
    {
     "name": "stdout",
     "output_type": "stream",
     "text": [
      "Index(['Year', 'Season', 'T_mean', 'T_max', 'T_min', 'RH_min', 'Wind_max',\n",
      "       'Precip', 'RedFlag', 'SantaAna', 'DiurnalRange', 'Station',\n",
      "       'Total_Fires', 'Total_Acres_Burned', 'Max_Acres_Burned', 'PDSI', 'ONI',\n",
      "       'ENSO_Phase', 'ENSO_Phase_Code'],\n",
      "      dtype='object')\n"
     ]
    }
   ],
   "source": [
    "import pandas as pd\n",
    "\n",
    "# Load clean copy\n",
    "df_model = pd.read_csv(\"merged_fire_weather_dataset_cleaned.csv\")\n",
    "\n",
    "# Confirm Station column is there\n",
    "print(df_model.columns)"
   ]
  },
  {
   "cell_type": "code",
   "execution_count": 44,
   "id": "ea8b4f6c-758b-45e6-a030-c590f1b33242",
   "metadata": {},
   "outputs": [],
   "source": [
    "# Log-transform acreage\n",
    "df_model['Log_Acres_Burned'] = np.log1p(df_model['Total_Acres_Burned'])\n",
    "\n",
    "# Feature interactions\n",
    "df_model['WindRH_Interaction'] = df_model['Wind_max'] * (100 - df_model['RH_min'])\n",
    "df_model['Fire_Weather_Index'] = df_model['RedFlag'] + df_model['SantaAna']\n",
    "df_model['HotDry_Index'] = df_model['T_max'] * (100 - df_model['RH_min'])"
   ]
  },
  {
   "cell_type": "code",
   "execution_count": 46,
   "id": "72f4437a-4f0d-4502-b7b2-ebbc52c9ca93",
   "metadata": {},
   "outputs": [],
   "source": [
    "df_model = pd.get_dummies(df_model, columns=['Station'], drop_first=True)"
   ]
  },
  {
   "cell_type": "code",
   "execution_count": 48,
   "id": "ffd89960-a5ed-46fb-88ea-9cfb1799ea83",
   "metadata": {},
   "outputs": [],
   "source": [
    "# Define feature list\n",
    "feature_cols = [\n",
    "    'T_mean', 'T_max', 'T_min', 'DiurnalRange',\n",
    "    'RH_min', 'Wind_max', 'Precip',\n",
    "    'RedFlag', 'SantaAna', 'PDSI', 'ONI', 'ENSO_Phase_Code',\n",
    "    'WindRH_Interaction', 'Fire_Weather_Index', 'HotDry_Index'\n",
    "]\n",
    "\n",
    "# Add one-hot station columns\n",
    "feature_cols += [col for col in df_model.columns if col.startswith(\"Station_\")]\n",
    "\n",
    "# Extract X and y\n",
    "X = df_model[feature_cols].values\n",
    "y = df_model[['Total_Fires', 'Log_Acres_Burned']].values"
   ]
  },
  {
   "cell_type": "code",
   "execution_count": 50,
   "id": "1b3b4898-beec-4167-913e-8eaa4befd294",
   "metadata": {},
   "outputs": [],
   "source": [
    "from sklearn.model_selection import train_test_split\n",
    "from sklearn.preprocessing import StandardScaler\n",
    "\n",
    "scaler = StandardScaler()\n",
    "X_scaled = scaler.fit_transform(X)\n",
    "\n",
    "X_train, X_val, y_train, y_val = train_test_split(X_scaled, y, test_size=0.2, random_state=42)"
   ]
  },
  {
   "cell_type": "code",
   "execution_count": 52,
   "id": "734d7066-c526-4ef8-8ab1-7afc6cbcd525",
   "metadata": {},
   "outputs": [],
   "source": [
    "# Convert to PyTorch tensors\n",
    "X_train_tensor = torch.tensor(X_train, dtype=torch.float32)\n",
    "y_train_tensor = torch.tensor(y_train, dtype=torch.float32)\n",
    "X_val_tensor = torch.tensor(X_val, dtype=torch.float32)\n",
    "y_val_tensor = torch.tensor(y_val, dtype=torch.float32)\n",
    "\n",
    "# Data loaders\n",
    "train_loader = DataLoader(TensorDataset(X_train_tensor, y_train_tensor), batch_size=32, shuffle=True)\n",
    "val_loader = DataLoader(TensorDataset(X_val_tensor, y_val_tensor), batch_size=32)\n",
    "\n",
    "# Refined model\n",
    "class SeriousFireModel(nn.Module):\n",
    "    def __init__(self, input_dim):\n",
    "        super().__init__()\n",
    "        self.net = nn.Sequential(\n",
    "            nn.Linear(input_dim, 256),\n",
    "            nn.BatchNorm1d(256),\n",
    "            nn.ReLU(),\n",
    "            nn.Dropout(0.3),\n",
    "            nn.Linear(256, 128),\n",
    "            nn.ReLU(),\n",
    "            nn.Dropout(0.2),\n",
    "            nn.Linear(128, 2)  # Output: [Total_Fires, Log_Acres_Burned]\n",
    "        )\n",
    "\n",
    "    def forward(self, x):\n",
    "        return self.net(x)\n",
    "\n",
    "# Instantiate model\n",
    "model = SeriousFireModel(X_train.shape[1])"
   ]
  },
  {
   "cell_type": "code",
   "execution_count": 58,
   "id": "65a0f6c0-f233-48db-b9b6-fa6e5a9f6092",
   "metadata": {},
   "outputs": [
    {
     "name": "stdout",
     "output_type": "stream",
     "text": [
      "Epoch   0 | Train Loss: 15.2997 | Val Loss: 5.5180\n",
      "Epoch  10 | Train Loss: 3.5870 | Val Loss: 5.1924\n",
      "Epoch  20 | Train Loss: 5.2185 | Val Loss: 5.3008\n",
      "Epoch  30 | Train Loss: 7.2901 | Val Loss: 5.2584\n",
      "Epoch  40 | Train Loss: 1.7786 | Val Loss: 5.2116\n",
      "Epoch  50 | Train Loss: 4.3981 | Val Loss: 5.2016\n",
      "Epoch  60 | Train Loss: 2.0704 | Val Loss: 5.1583\n",
      "Epoch  70 | Train Loss: 5.3581 | Val Loss: 5.2282\n",
      "Epoch  80 | Train Loss: 6.0257 | Val Loss: 5.2206\n",
      "Epoch  90 | Train Loss: 3.4599 | Val Loss: 5.2373\n"
     ]
    }
   ],
   "source": [
    "optimizer = torch.optim.Adam(model.parameters(), lr=0.001)\n",
    "criterion = nn.MSELoss()\n",
    "scheduler = torch.optim.lr_scheduler.ReduceLROnPlateau(optimizer, patience=5, factor=0.5)\n",
    "\n",
    "# Training loop\n",
    "for epoch in range(100):\n",
    "    model.train()\n",
    "    for xb, yb in train_loader:\n",
    "        pred = model(xb)\n",
    "        loss = criterion(pred, yb)\n",
    "        optimizer.zero_grad()\n",
    "        loss.backward()\n",
    "        optimizer.step()\n",
    "\n",
    "    # Validation loss\n",
    "    model.eval()\n",
    "    with torch.no_grad():\n",
    "        val_pred = model(X_val_tensor)\n",
    "        val_loss = criterion(val_pred, y_val_tensor)\n",
    "\n",
    "    scheduler.step(val_loss)\n",
    "\n",
    "    if epoch % 10 == 0:\n",
    "        print(f\"Epoch {epoch:3d} | Train Loss: {loss.item():.4f} | Val Loss: {val_loss.item():.4f}\")"
   ]
  },
  {
   "cell_type": "code",
   "execution_count": 60,
   "id": "5d088977-13fd-473e-b8df-3ef1a605fdfa",
   "metadata": {},
   "outputs": [
    {
     "name": "stdout",
     "output_type": "stream",
     "text": [
      "Fire Count Prediction:\n",
      "  MAE:  0.29\n",
      "  RMSE: 0.51\n",
      "  R²:   0.051\n",
      "\n",
      "Acres Burned Prediction:\n",
      "  MAE:  5,837.67\n",
      "  RMSE: 30,404.83\n",
      "  R²:   -0.038\n"
     ]
    }
   ],
   "source": [
    "from sklearn.metrics import mean_absolute_error, mean_squared_error, r2_score\n",
    "import numpy as np\n",
    "\n",
    "# Make predictions\n",
    "model.eval()\n",
    "with torch.no_grad():\n",
    "    y_pred_tensor = model(X_val_tensor)\n",
    "\n",
    "# Convert tensors to NumPy\n",
    "y_pred = y_pred_tensor.numpy()\n",
    "y_true = y_val_tensor.numpy()\n",
    "\n",
    "# Split outputs\n",
    "y_true_fires = y_true[:, 0]\n",
    "y_pred_fires = y_pred[:, 0]\n",
    "\n",
    "y_true_log_acres = y_true[:, 1]\n",
    "y_pred_log_acres = y_pred[:, 1]\n",
    "\n",
    "# Inverse log-transform to get actual acres burned\n",
    "y_true_acres = np.expm1(y_true_log_acres)\n",
    "y_pred_acres = np.expm1(y_pred_log_acres)\n",
    "\n",
    "# Fire Prediction Metrics\n",
    "mae_fires = mean_absolute_error(y_true_fires, y_pred_fires)\n",
    "rmse_fires = np.sqrt(mean_squared_error(y_true_fires, y_pred_fires))\n",
    "r2_fires = r2_score(y_true_fires, y_pred_fires)\n",
    "\n",
    "# Acres Burned Metrics\n",
    "mae_acres = mean_absolute_error(y_true_acres, y_pred_acres)\n",
    "rmse_acres = np.sqrt(mean_squared_error(y_true_acres, y_pred_acres))\n",
    "r2_acres = r2_score(y_true_acres, y_pred_acres)\n",
    "\n",
    "# Display Results\n",
    "print(\"Fire Count Prediction:\")\n",
    "print(f\"  MAE:  {mae_fires:.2f}\")\n",
    "print(f\"  RMSE: {rmse_fires:.2f}\")\n",
    "print(f\"  R²:   {r2_fires:.3f}\")\n",
    "\n",
    "print(\"\\nAcres Burned Prediction:\")\n",
    "print(f\"  MAE:  {mae_acres:,.2f}\")\n",
    "print(f\"  RMSE: {rmse_acres:,.2f}\")\n",
    "print(f\"  R²:   {r2_acres:.3f}\")"
   ]
  },
  {
   "cell_type": "code",
   "execution_count": 64,
   "id": "9e2470e7-2b9e-4f94-beed-5d84759dd2ee",
   "metadata": {},
   "outputs": [],
   "source": [
    "#Model B\n",
    "import pandas as pd\n",
    "import numpy as np\n",
    "\n",
    "# Reload original dataset\n",
    "df_b = pd.read_csv(\"merged_fire_weather_dataset_cleaned.csv\")"
   ]
  },
  {
   "cell_type": "code",
   "execution_count": 66,
   "id": "0845f988-a923-4cb3-988c-9e8970bbe5e3",
   "metadata": {},
   "outputs": [],
   "source": [
    "# Binary target\n",
    "df_b['High_Risk'] = ((df_b['Total_Fires'] > 3) | \n",
    "                     (df_b['Total_Acres_Burned'] > 20000)).astype(int)\n",
    "\n",
    "# Feature engineering\n",
    "df_b['Log_Acres_Burned'] = np.log1p(df_b['Total_Acres_Burned'])\n",
    "df_b['WindRH_Interaction'] = df_b['Wind_max'] * (100 - df_b['RH_min'])\n",
    "df_b['Fire_Weather_Index'] = df_b['RedFlag'] + df_b['SantaAna']\n",
    "df_b['HotDry_Index'] = df_b['T_max'] * (100 - df_b['RH_min'])"
   ]
  },
  {
   "cell_type": "code",
   "execution_count": 68,
   "id": "1ce04e64-3640-4f47-9920-5ff46287eb36",
   "metadata": {},
   "outputs": [],
   "source": [
    "df_b = pd.get_dummies(df_b, columns=['Station'], drop_first=True)"
   ]
  },
  {
   "cell_type": "code",
   "execution_count": 70,
   "id": "1c4391ca-c625-4a5b-aafb-a5cf58b90959",
   "metadata": {},
   "outputs": [],
   "source": [
    "feature_cols_b = [\n",
    "    'T_mean', 'T_max', 'T_min', 'DiurnalRange',\n",
    "    'RH_min', 'Wind_max', 'Precip',\n",
    "    'RedFlag', 'SantaAna', 'PDSI', 'ONI', 'ENSO_Phase_Code',\n",
    "    'WindRH_Interaction', 'Fire_Weather_Index', 'HotDry_Index'\n",
    "]\n",
    "\n",
    "# Add station columns\n",
    "feature_cols_b += [col for col in df_b.columns if col.startswith(\"Station_\")]\n",
    "\n",
    "X_b = df_b[feature_cols_b].values\n",
    "y_b = df_b['High_Risk'].values"
   ]
  },
  {
   "cell_type": "code",
   "execution_count": 72,
   "id": "565ad17a-a49e-443f-8f5d-c7f2108f95c5",
   "metadata": {},
   "outputs": [],
   "source": [
    "from sklearn.model_selection import train_test_split\n",
    "from sklearn.preprocessing import StandardScaler\n",
    "\n",
    "scaler_b = StandardScaler()\n",
    "X_b_scaled = scaler_b.fit_transform(X_b)\n",
    "\n",
    "X_train_b, X_val_b, y_train_b, y_val_b = train_test_split(\n",
    "    X_b_scaled, y_b, test_size=0.2, random_state=42\n",
    ")"
   ]
  },
  {
   "cell_type": "code",
   "execution_count": 74,
   "id": "31df5be4-b3da-49fb-9e31-0e9254447d20",
   "metadata": {},
   "outputs": [],
   "source": [
    "# Convert to tensors\n",
    "X_train_tensor_b = torch.tensor(X_train_b, dtype=torch.float32)\n",
    "y_train_tensor_b = torch.tensor(y_train_b, dtype=torch.float32).unsqueeze(1)\n",
    "X_val_tensor_b = torch.tensor(X_val_b, dtype=torch.float32)\n",
    "y_val_tensor_b = torch.tensor(y_val_b, dtype=torch.float32).unsqueeze(1)\n",
    "\n",
    "# Dataloaders\n",
    "train_loader_b = DataLoader(TensorDataset(X_train_tensor_b, y_train_tensor_b), batch_size=32, shuffle=True)\n",
    "val_loader_b = DataLoader(TensorDataset(X_val_tensor_b, y_val_tensor_b), batch_size=32)"
   ]
  },
  {
   "cell_type": "code",
   "execution_count": 76,
   "id": "65b5d864-a24c-42ec-b966-df80642411e1",
   "metadata": {},
   "outputs": [],
   "source": [
    "class FireRiskClassifier(nn.Module):\n",
    "    def __init__(self, input_dim):\n",
    "        super().__init__()\n",
    "        self.net = nn.Sequential(\n",
    "            nn.Linear(input_dim, 128),\n",
    "            nn.BatchNorm1d(128),\n",
    "            nn.ReLU(),\n",
    "            nn.Dropout(0.3),\n",
    "            nn.Linear(128, 64),\n",
    "            nn.ReLU(),\n",
    "            nn.Linear(64, 1),\n",
    "            nn.Sigmoid()  # For binary classification\n",
    "        )\n",
    "\n",
    "    def forward(self, x):\n",
    "        return self.net(x)\n",
    "\n",
    "model_b = FireRiskClassifier(X_train_b.shape[1])"
   ]
  },
  {
   "cell_type": "code",
   "execution_count": 78,
   "id": "c5b5ea44-b57d-4bab-bb79-47498ec9a7e5",
   "metadata": {},
   "outputs": [
    {
     "name": "stdout",
     "output_type": "stream",
     "text": [
      "Epoch   0 | Train Loss: 0.1334 | Val Loss: 0.2878\n",
      "Epoch  10 | Train Loss: 0.2758 | Val Loss: 0.2571\n",
      "Epoch  20 | Train Loss: 0.0825 | Val Loss: 0.2568\n",
      "Epoch  30 | Train Loss: 0.0498 | Val Loss: 0.2730\n",
      "Epoch  40 | Train Loss: 0.0521 | Val Loss: 0.2633\n"
     ]
    }
   ],
   "source": [
    "optimizer = torch.optim.Adam(model_b.parameters(), lr=0.001)\n",
    "criterion = nn.BCELoss()\n",
    "\n",
    "# Train loop\n",
    "for epoch in range(50):\n",
    "    model_b.train()\n",
    "    for xb, yb in train_loader_b:\n",
    "        pred = model_b(xb)\n",
    "        loss = criterion(pred, yb)\n",
    "        optimizer.zero_grad()\n",
    "        loss.backward()\n",
    "        optimizer.step()\n",
    "\n",
    "    # Validate\n",
    "    model_b.eval()\n",
    "    with torch.no_grad():\n",
    "        val_pred = model_b(X_val_tensor_b)\n",
    "        val_loss = criterion(val_pred, y_val_tensor_b)\n",
    "\n",
    "    if epoch % 10 == 0:\n",
    "        print(f\"Epoch {epoch:3d} | Train Loss: {loss.item():.4f} | Val Loss: {val_loss.item():.4f}\")"
   ]
  },
  {
   "cell_type": "code",
   "execution_count": 80,
   "id": "102c379d-13e1-4914-a0b7-68ae901c3b33",
   "metadata": {},
   "outputs": [
    {
     "name": "stdout",
     "output_type": "stream",
     "text": [
      "Model B: High-Risk Wildfire Classifier\n",
      "  Accuracy : 0.900\n",
      "  Precision: 0.000\n",
      "  Recall   : 0.000\n",
      "  F1 Score : 0.000\n",
      "  ROC AUC  : 0.772\n"
     ]
    }
   ],
   "source": [
    "from sklearn.metrics import accuracy_score, precision_score, recall_score, f1_score, roc_auc_score\n",
    "\n",
    "# Predict on validation set\n",
    "model_b.eval()\n",
    "with torch.no_grad():\n",
    "    y_prob_b = model_b(X_val_tensor_b).numpy()\n",
    "    y_pred_b = (y_prob_b > 0.5).astype(int)\n",
    "    y_true_b = y_val_tensor_b.numpy()\n",
    "\n",
    "# Metrics\n",
    "acc = accuracy_score(y_true_b, y_pred_b)\n",
    "prec = precision_score(y_true_b, y_pred_b)\n",
    "rec = recall_score(y_true_b, y_pred_b)\n",
    "f1 = f1_score(y_true_b, y_pred_b)\n",
    "auc = roc_auc_score(y_true_b, y_prob_b)\n",
    "\n",
    "# Print\n",
    "print(\"Model B: High-Risk Wildfire Classifier\")\n",
    "print(f\"  Accuracy : {acc:.3f}\")\n",
    "print(f\"  Precision: {prec:.3f}\")\n",
    "print(f\"  Recall   : {rec:.3f}\")\n",
    "print(f\"  F1 Score : {f1:.3f}\")\n",
    "print(f\"  ROC AUC  : {auc:.3f}\")"
   ]
  },
  {
   "cell_type": "code",
   "execution_count": 94,
   "id": "469bf7ae-4c4d-4407-8ef2-74df00896171",
   "metadata": {},
   "outputs": [
    {
     "name": "stdout",
     "output_type": "stream",
     "text": [
      "Threshold = 0.15\n",
      "  Accuracy : 0.836\n",
      "  Precision: 0.200\n",
      "  Recall   : 0.364\n",
      "  F1 Score : 0.258\n"
     ]
    }
   ],
   "source": [
    "from sklearn.metrics import accuracy_score, precision_score, recall_score, f1_score\n",
    "\n",
    "# Lower threshold\n",
    "y_pred_b_adj = (y_prob_b > 0.15).astype(int)\n",
    "\n",
    "# Metrics\n",
    "acc = accuracy_score(y_true_b, y_pred_b_adj)\n",
    "prec = precision_score(y_true_b, y_pred_b_adj)\n",
    "rec = recall_score(y_true_b, y_pred_b_adj)\n",
    "f1 = f1_score(y_true_b, y_pred_b_adj)\n",
    "\n",
    "print(\"Threshold = 0.15\")\n",
    "print(f\"  Accuracy : {acc:.3f}\")\n",
    "print(f\"  Precision: {prec:.3f}\")\n",
    "print(f\"  Recall   : {rec:.3f}\")\n",
    "print(f\"  F1 Score : {f1:.3f}\")"
   ]
  },
  {
   "cell_type": "code",
   "execution_count": 96,
   "id": "6de678dd-e6b4-4541-bef8-3d0f4a77e59f",
   "metadata": {},
   "outputs": [
    {
     "name": "stdout",
     "output_type": "stream",
     "text": [
      "Using pos_weight = 13.74\n"
     ]
    }
   ],
   "source": [
    "# Count positive (high-risk) and negative (low-risk) cases\n",
    "num_pos = np.sum(y_train_b)\n",
    "num_neg = len(y_train_b) - num_pos\n",
    "\n",
    "# Compute positive weight\n",
    "pos_weight = torch.tensor([num_neg / num_pos], dtype=torch.float32)\n",
    "print(f\"Using pos_weight = {pos_weight.item():.2f}\")"
   ]
  },
  {
   "cell_type": "code",
   "execution_count": 98,
   "id": "12453b3d-7d4c-4e2e-a8be-0409ef56cc3a",
   "metadata": {},
   "outputs": [],
   "source": [
    "class FireRiskClassifierWeighted(nn.Module):\n",
    "    def __init__(self, input_dim):\n",
    "        super().__init__()\n",
    "        self.net = nn.Sequential(\n",
    "            nn.Linear(input_dim, 128),\n",
    "            nn.BatchNorm1d(128),\n",
    "            nn.ReLU(),\n",
    "            nn.Dropout(0.3),\n",
    "            nn.Linear(128, 64),\n",
    "            nn.ReLU(),\n",
    "            nn.Linear(64, 1)  # No sigmoid\n",
    "        )\n",
    "\n",
    "    def forward(self, x):\n",
    "        return self.net(x)"
   ]
  },
  {
   "cell_type": "code",
   "execution_count": 100,
   "id": "5902b319-95f5-425c-a307-3afdd7ae1e09",
   "metadata": {},
   "outputs": [
    {
     "name": "stdout",
     "output_type": "stream",
     "text": [
      "Epoch   0 | Train Loss: 1.9868 | Val Loss: 1.4087\n",
      "Epoch  10 | Train Loss: 0.4433 | Val Loss: 1.2038\n",
      "Epoch  20 | Train Loss: 1.2846 | Val Loss: 1.1441\n",
      "Epoch  30 | Train Loss: 0.7243 | Val Loss: 1.2547\n",
      "Epoch  40 | Train Loss: 0.1838 | Val Loss: 1.3399\n"
     ]
    }
   ],
   "source": [
    "model_b_weighted = FireRiskClassifierWeighted(X_train_b.shape[1])\n",
    "optimizer = torch.optim.Adam(model_b_weighted.parameters(), lr=0.001)\n",
    "\n",
    "# Weighted loss\n",
    "criterion = nn.BCEWithLogitsLoss(pos_weight=pos_weight)\n",
    "\n",
    "# Training loop\n",
    "for epoch in range(50):\n",
    "    model_b_weighted.train()\n",
    "    for xb, yb in train_loader_b:\n",
    "        pred = model_b_weighted(xb)\n",
    "        loss = criterion(pred, yb)\n",
    "        optimizer.zero_grad()\n",
    "        loss.backward()\n",
    "        optimizer.step()\n",
    "\n",
    "    # Validation\n",
    "    model_b_weighted.eval()\n",
    "    with torch.no_grad():\n",
    "        val_pred = model_b_weighted(X_val_tensor_b)\n",
    "        val_loss = criterion(val_pred, y_val_tensor_b)\n",
    "\n",
    "    if epoch % 10 == 0:\n",
    "        print(f\"Epoch {epoch:3d} | Train Loss: {loss.item():.4f} | Val Loss: {val_loss.item():.4f}\")"
   ]
  },
  {
   "cell_type": "code",
   "execution_count": 104,
   "id": "3bd75944-8724-45eb-8978-5cc0d05cbe71",
   "metadata": {},
   "outputs": [
    {
     "name": "stdout",
     "output_type": "stream",
     "text": [
      "Model B (Weighted Loss) — Threshold = 0.15\n",
      "  Accuracy : 0.664\n",
      "  Precision: 0.167\n",
      "  Recall   : 0.818\n",
      "  F1 Score : 0.277\n",
      "  ROC AUC  : 0.813\n"
     ]
    }
   ],
   "source": [
    "from sklearn.metrics import accuracy_score, precision_score, recall_score, f1_score, roc_auc_score\n",
    "\n",
    "# Get raw logits\n",
    "model_b_weighted.eval()\n",
    "with torch.no_grad():\n",
    "    logits_b = model_b_weighted(X_val_tensor_b)\n",
    "\n",
    "# Convert logits to probabilities\n",
    "y_prob_b_weighted = torch.sigmoid(logits_b).numpy()\n",
    "\n",
    "# Try threshold = 0.15\n",
    "threshold = 0.15\n",
    "y_pred_b_weighted = (y_prob_b_weighted > threshold).astype(int)\n",
    "y_true_b = y_val_tensor_b.numpy()\n",
    "\n",
    "# Evaluate\n",
    "acc = accuracy_score(y_true_b, y_pred_b_weighted)\n",
    "prec = precision_score(y_true_b, y_pred_b_weighted)\n",
    "rec = recall_score(y_true_b, y_pred_b_weighted)\n",
    "f1 = f1_score(y_true_b, y_pred_b_weighted)\n",
    "auc = roc_auc_score(y_true_b, y_prob_b_weighted)\n",
    "\n",
    "# Display\n",
    "print(\"Model B (Weighted Loss) — Threshold =\", threshold)\n",
    "print(f\"  Accuracy : {acc:.3f}\")\n",
    "print(f\"  Precision: {prec:.3f}\")\n",
    "print(f\"  Recall   : {rec:.3f}\")\n",
    "print(f\"  F1 Score : {f1:.3f}\")\n",
    "print(f\"  ROC AUC  : {auc:.3f}\")"
   ]
  },
  {
   "cell_type": "code",
   "execution_count": 112,
   "id": "053be8ef-e57d-444f-8319-b58fd6938261",
   "metadata": {},
   "outputs": [],
   "source": [
    "import pandas as pd\n",
    "import numpy as np\n",
    "import torch\n",
    "\n",
    "def simulate_future_risk(\n",
    "    model, scaler, feature_cols, year, season, station, \n",
    "    T_mean, T_max, T_min, RH_min, Wind_max, Precip,\n",
    "    RedFlag, SantaAna, PDSI, ONI, ENSO_phase_code, threshold=0.15\n",
    "):\n",
    "    \"\"\"\n",
    "    Simulates wildfire high-risk probability for one seasonal record.\n",
    "    \"\"\"\n",
    "    # Compute engineered features\n",
    "    DiurnalRange = T_max - T_min\n",
    "    WindRH_Interaction = Wind_max * (100 - RH_min)\n",
    "    Fire_Weather_Index = RedFlag + SantaAna\n",
    "    HotDry_Index = T_max * (100 - RH_min)\n",
    "    \n",
    "    # Base record\n",
    "    data = {\n",
    "        'Year': year,\n",
    "        'Season': season,\n",
    "        'T_mean': T_mean,\n",
    "        'T_max': T_max,\n",
    "        'T_min': T_min,\n",
    "        'DiurnalRange': DiurnalRange,\n",
    "        'RH_min': RH_min,\n",
    "        'Wind_max': Wind_max,\n",
    "        'Precip': Precip,\n",
    "        'RedFlag': RedFlag,\n",
    "        'SantaAna': SantaAna,\n",
    "        'PDSI': PDSI,\n",
    "        'ONI': ONI,\n",
    "        'ENSO_Phase_Code': ENSO_phase_code,\n",
    "        'WindRH_Interaction': WindRH_Interaction,\n",
    "        'Fire_Weather_Index': Fire_Weather_Index,\n",
    "        'HotDry_Index': HotDry_Index\n",
    "    }\n",
    "\n",
    "    # Add dummy station columns\n",
    "    dummy_stations = [col for col in feature_cols if col.startswith(\"Station_\")]\n",
    "    for st in dummy_stations:\n",
    "        data[st] = 1 if st == f'Station_{station}' else 0\n",
    "\n",
    "    # Ensure all expected features exist\n",
    "    for col in feature_cols:\n",
    "        if col not in data:\n",
    "            data[col] = 0\n",
    "\n",
    "    # Convert to DataFrame and order columns\n",
    "    df_future = pd.DataFrame([data])[feature_cols]\n",
    "\n",
    "    # Scale\n",
    "    X_scaled = scaler.transform(df_future.values)\n",
    "    X_tensor = torch.tensor(X_scaled, dtype=torch.float32)\n",
    "\n",
    "    # Predict\n",
    "    model.eval()\n",
    "    with torch.no_grad():\n",
    "        logits = model(X_tensor)\n",
    "        prob = torch.sigmoid(logits).item()\n",
    "        label = int(prob > threshold)\n",
    "\n",
    "    return {\n",
    "        'Year': year,\n",
    "        'Season': season,\n",
    "        'Station': station,\n",
    "        'Risk_Probability': round(prob, 3),\n",
    "        'Predicted_High_Risk': label\n",
    "    }"
   ]
  },
  {
   "cell_type": "code",
   "execution_count": 188,
   "id": "a5a0d1a1-bc6a-4c87-952d-8d3031845fe4",
   "metadata": {},
   "outputs": [],
   "source": [
    "stations = [\"KOXR\", \"KCMA\", \"CEEC1\", \"DVLC1\", \"LCBC1\", \"KNTD\", \"OZNC1\"]\n",
    "\n",
    "# Define simulation parameters by decade\n",
    "scenarios = [\n",
    "    {\"year\": 2030, \"T_mean\": 72, \"T_max\": 87, \"T_min\": 58, \"RH_min\": 10, \"Wind_max\": 45,\n",
    "     \"Precip\": 0.2, \"RedFlag\": 6, \"SantaAna\": 7, \"PDSI\": -2.0, \"ONI\": 0.6, \"ENSO_phase_code\": 0},\n",
    "    \n",
    "    {\"year\": 2040, \"T_mean\": 74, \"T_max\": 90, \"T_min\": 60, \"RH_min\": 6, \"Wind_max\": 35,\n",
    "     \"Precip\": 0.1, \"RedFlag\": 8, \"SantaAna\": 10, \"PDSI\": -2.8, \"ONI\": -0.4, \"ENSO_phase_code\": -1},\n",
    "    \n",
    "    {\"year\": 2050, \"T_mean\": 76, \"T_max\": 94, \"T_min\": 62, \"RH_min\": 5, \"Wind_max\": 50,\n",
    "     \"Precip\": 0.0, \"RedFlag\": 10, \"SantaAna\": 12, \"PDSI\": -3.3, \"ONI\": 1.1, \"ENSO_phase_code\": 1}\n",
    "]\n"
   ]
  },
  {
   "cell_type": "code",
   "execution_count": 190,
   "id": "bafb72a4-da40-4d0e-bed4-4e7c7e6d08d5",
   "metadata": {},
   "outputs": [],
   "source": [
    "results = []\n",
    "\n",
    "for scenario in scenarios:\n",
    "    for station in stations:\n",
    "        result = simulate_future_risk(\n",
    "            model=model_b_weighted,\n",
    "            scaler=scaler_b,\n",
    "            feature_cols=feature_cols_b,\n",
    "            year=scenario['year'],\n",
    "            season=\"Fall\",\n",
    "            station=station,\n",
    "            T_mean=scenario['T_mean'],\n",
    "            T_max=scenario['T_max'],\n",
    "            T_min=scenario['T_min'],\n",
    "            RH_min=scenario['RH_min'],\n",
    "            Wind_max=scenario['Wind_max'],\n",
    "            Precip=scenario['Precip'],\n",
    "            RedFlag=scenario['RedFlag'],\n",
    "            SantaAna=scenario['SantaAna'],\n",
    "            PDSI=scenario['PDSI'],\n",
    "            ONI=scenario['ONI'],\n",
    "            ENSO_phase_code=scenario['ENSO_phase_code'],\n",
    "            threshold=0.15\n",
    "        )\n",
    "        results.append(result)\n",
    "\n",
    "# Create DataFrame\n",
    "future_risk_df = pd.DataFrame(results)\n",
    "future_risk_df.sort_values(['Year', 'Station'], inplace=True)"
   ]
  },
  {
   "cell_type": "code",
   "execution_count": 192,
   "id": "51ffdc9d-3292-4526-abc4-2c4aaa297df6",
   "metadata": {},
   "outputs": [
    {
     "name": "stdout",
     "output_type": "stream",
     "text": [
      "    Year Season Station  Risk_Probability  Predicted_High_Risk\n",
      "2   2030   Fall   CEEC1             0.105                    0\n",
      "3   2030   Fall   DVLC1             0.064                    0\n",
      "1   2030   Fall    KCMA             0.207                    1\n",
      "5   2030   Fall    KNTD             0.063                    0\n",
      "0   2030   Fall    KOXR             0.087                    0\n",
      "4   2030   Fall   LCBC1             0.033                    0\n",
      "6   2030   Fall   OZNC1             0.032                    0\n",
      "9   2040   Fall   CEEC1             0.966                    1\n",
      "10  2040   Fall   DVLC1             0.851                    1\n",
      "8   2040   Fall    KCMA             0.976                    1\n",
      "12  2040   Fall    KNTD             0.976                    1\n",
      "7   2040   Fall    KOXR             0.970                    1\n",
      "11  2040   Fall   LCBC1             0.767                    1\n",
      "13  2040   Fall   OZNC1             0.941                    1\n",
      "16  2050   Fall   CEEC1             0.552                    1\n",
      "17  2050   Fall   DVLC1             0.347                    1\n",
      "15  2050   Fall    KCMA             0.578                    1\n",
      "19  2050   Fall    KNTD             0.629                    1\n",
      "14  2050   Fall    KOXR             0.483                    1\n",
      "18  2050   Fall   LCBC1             0.276                    1\n",
      "20  2050   Fall   OZNC1             0.277                    1\n"
     ]
    }
   ],
   "source": [
    "print(future_risk_df[['Year', 'Season', 'Station', 'Risk_Probability', 'Predicted_High_Risk']])"
   ]
  },
  {
   "cell_type": "code",
   "execution_count": 194,
   "id": "73bd9f52-5134-4014-a2f4-155046cf66c6",
   "metadata": {},
   "outputs": [],
   "source": [
    "df_c = df_b.copy()  # Clean slate\n",
    "\n",
    "# Drop target columns — we’re not doing supervised learning here\n",
    "df_c = df_c.drop(columns=[\n",
    "    'Total_Fires', 'Total_Acres_Burned', 'High_Risk'\n",
    "], errors='ignore')  # in case they're still in the copy"
   ]
  },
  {
   "cell_type": "code",
   "execution_count": 196,
   "id": "d11828b6-2a80-487d-b04a-13ca09f27d7c",
   "metadata": {},
   "outputs": [],
   "source": [
    "X_c = df_c[feature_cols_b].values"
   ]
  },
  {
   "cell_type": "code",
   "execution_count": 198,
   "id": "c49ac3f4-e765-4ebf-8ea1-dad397fa866e",
   "metadata": {},
   "outputs": [],
   "source": [
    "from sklearn.preprocessing import StandardScaler\n",
    "\n",
    "scaler_c = StandardScaler()\n",
    "X_c_scaled = scaler_c.fit_transform(X_c)"
   ]
  },
  {
   "cell_type": "code",
   "execution_count": 200,
   "id": "2fc9bd1e-589d-4af2-ad71-bd88e5094161",
   "metadata": {},
   "outputs": [],
   "source": [
    "import torch\n",
    "from torch import nn\n",
    "from torch.utils.data import DataLoader, TensorDataset\n",
    "\n",
    "class AE(nn.Module):\n",
    "    def __init__(self, input_dim):\n",
    "        super().__init__()\n",
    "        self.encoder = nn.Sequential(\n",
    "            nn.Linear(input_dim, 64),\n",
    "            nn.ReLU(),\n",
    "            nn.Linear(64, 32)\n",
    "        )\n",
    "        self.decoder = nn.Sequential(\n",
    "            nn.Linear(32, 64),\n",
    "            nn.ReLU(),\n",
    "            nn.Linear(64, input_dim)\n",
    "        )\n",
    "\n",
    "    def forward(self, x):\n",
    "        encoded = self.encoder(x)\n",
    "        decoded = self.decoder(encoded)\n",
    "        return decoded\n",
    "\n",
    "model_c = AE(input_dim=X_c.shape[1])"
   ]
  },
  {
   "cell_type": "code",
   "execution_count": 202,
   "id": "6280cbd9-4b37-41ae-8c59-15b6204276ba",
   "metadata": {},
   "outputs": [
    {
     "name": "stdout",
     "output_type": "stream",
     "text": [
      "Epoch 0 | Loss: 20.9336\n",
      "Epoch 10 | Loss: 1.2879\n",
      "Epoch 20 | Loss: 0.5082\n",
      "Epoch 30 | Loss: 0.3188\n",
      "Epoch 40 | Loss: 0.2019\n",
      "Epoch 50 | Loss: 0.1351\n",
      "Epoch 60 | Loss: 0.1044\n",
      "Epoch 70 | Loss: 0.0909\n",
      "Epoch 80 | Loss: 0.0771\n",
      "Epoch 90 | Loss: 0.0669\n"
     ]
    }
   ],
   "source": [
    "X_tensor_c = torch.tensor(X_c_scaled, dtype=torch.float32)\n",
    "loader_c = DataLoader(TensorDataset(X_tensor_c), batch_size=32, shuffle=True)\n",
    "\n",
    "optimizer = torch.optim.Adam(model_c.parameters(), lr=0.001)\n",
    "criterion = nn.MSELoss()\n",
    "\n",
    "for epoch in range(100):\n",
    "    model_c.train()\n",
    "    epoch_loss = 0\n",
    "    for xb, in loader_c:\n",
    "        recon = model_c(xb)\n",
    "        loss = criterion(recon, xb)\n",
    "        optimizer.zero_grad()\n",
    "        loss.backward()\n",
    "        optimizer.step()\n",
    "        epoch_loss += loss.item()\n",
    "    if epoch % 10 == 0:\n",
    "        print(f\"Epoch {epoch} | Loss: {epoch_loss:.4f}\")"
   ]
  },
  {
   "cell_type": "code",
   "execution_count": 216,
   "id": "51555ea0-73d5-4a55-9dfc-6c67447e7e4b",
   "metadata": {},
   "outputs": [],
   "source": [
    "#MODEL C\n",
    "df_c = pd.read_csv(\"merged_fire_weather_dataset_cleaned.csv\")"
   ]
  },
  {
   "cell_type": "code",
   "execution_count": 218,
   "id": "6cc1d9df-ded0-4512-8cda-fb2d5a93bfb4",
   "metadata": {},
   "outputs": [],
   "source": [
    "df_c = df_c.drop(columns=[\n",
    "    'Total_Fires', 'Total_Acres_Burned', 'Max_Acres_Burned', 'High_Risk'\n",
    "], errors='ignore')"
   ]
  },
  {
   "cell_type": "code",
   "execution_count": 220,
   "id": "83edd4b9-32c4-4790-9430-4af82b1ca3d2",
   "metadata": {},
   "outputs": [],
   "source": [
    "df_c = pd.get_dummies(df_c, columns=['Station'], drop_first=False)"
   ]
  },
  {
   "cell_type": "code",
   "execution_count": null,
   "id": "f40e6396-19f6-46cd-9338-f81fb5a982a3",
   "metadata": {},
   "outputs": [],
   "source": []
  },
  {
   "cell_type": "code",
   "execution_count": 222,
   "id": "b74fa348-e737-4bb9-b4fa-2b3a566b92cb",
   "metadata": {},
   "outputs": [],
   "source": [
    "feature_cols_c = [\n",
    "    'T_mean', 'T_max', 'T_min', 'DiurnalRange',\n",
    "    'RH_min', 'Wind_max', 'Precip',\n",
    "    'RedFlag', 'SantaAna', 'PDSI', 'ONI', 'ENSO_Phase_Code',\n",
    "    'WindRH_Interaction', 'Fire_Weather_Index', 'HotDry_Index'\n",
    "] + [col for col in df_c.columns if col.startswith(\"Station_\")]"
   ]
  },
  {
   "cell_type": "code",
   "execution_count": 226,
   "id": "34a68908-5ce5-4c2c-8fcd-d82b1e90c608",
   "metadata": {},
   "outputs": [],
   "source": [
    "# Diurnal Range is already present — skip if it's there\n",
    "\n",
    "df_c['WindRH_Interaction'] = df_c['Wind_max'] * (100 - df_c['RH_min'])\n",
    "df_c['Fire_Weather_Index'] = df_c['RedFlag'] + df_c['SantaAna']\n",
    "df_c['HotDry_Index'] = df_c['T_max'] * (100 - df_c['RH_min'])"
   ]
  },
  {
   "cell_type": "code",
   "execution_count": 228,
   "id": "e077850c-6495-49a3-8853-472ca663d0c8",
   "metadata": {},
   "outputs": [],
   "source": [
    "X_c = df_c[feature_cols_c].values"
   ]
  },
  {
   "cell_type": "code",
   "execution_count": 230,
   "id": "40572b43-f8c4-42cb-a68a-34b6460bd58d",
   "metadata": {},
   "outputs": [],
   "source": [
    "from sklearn.preprocessing import StandardScaler\n",
    "import torch\n",
    "\n",
    "scaler_c = StandardScaler()\n",
    "X_c_scaled = scaler_c.fit_transform(X_c)\n",
    "\n",
    "X_tensor_c = torch.tensor(X_c_scaled, dtype=torch.float32)"
   ]
  },
  {
   "cell_type": "code",
   "execution_count": 232,
   "id": "f16d5421-4674-410c-a7ee-8f6d74cebc32",
   "metadata": {},
   "outputs": [],
   "source": [
    "from torch import nn\n",
    "from torch.utils.data import DataLoader, TensorDataset\n",
    "\n",
    "class AE(nn.Module):\n",
    "    def __init__(self, input_dim):\n",
    "        super().__init__()\n",
    "        self.encoder = nn.Sequential(\n",
    "            nn.Linear(input_dim, 64),\n",
    "            nn.ReLU(),\n",
    "            nn.Linear(64, 32)\n",
    "        )\n",
    "        self.decoder = nn.Sequential(\n",
    "            nn.Linear(32, 64),\n",
    "            nn.ReLU(),\n",
    "            nn.Linear(64, input_dim)\n",
    "        )\n",
    "\n",
    "    def forward(self, x):\n",
    "        encoded = self.encoder(x)\n",
    "        decoded = self.decoder(encoded)\n",
    "        return decoded\n",
    "\n",
    "model_c = AE(input_dim=X_c.shape[1])"
   ]
  },
  {
   "cell_type": "code",
   "execution_count": 234,
   "id": "044147f8-5f4f-4f6d-bbc1-d176a2e5c05d",
   "metadata": {},
   "outputs": [
    {
     "name": "stdout",
     "output_type": "stream",
     "text": [
      "Epoch 0 | Loss: 0.717736\n",
      "Epoch 10 | Loss: 0.040485\n",
      "Epoch 20 | Loss: 0.022979\n",
      "Epoch 30 | Loss: 0.010637\n",
      "Epoch 40 | Loss: 0.007419\n",
      "Epoch 50 | Loss: 0.004863\n",
      "Epoch 60 | Loss: 0.004374\n",
      "Epoch 70 | Loss: 0.005760\n",
      "Epoch 80 | Loss: 0.003182\n",
      "Epoch 90 | Loss: 0.003170\n"
     ]
    }
   ],
   "source": [
    "loader_c = DataLoader(TensorDataset(X_tensor_c), batch_size=32, shuffle=True)\n",
    "optimizer = torch.optim.Adam(model_c.parameters(), lr=0.001)\n",
    "criterion = nn.MSELoss()\n",
    "\n",
    "for epoch in range(100):\n",
    "    model_c.train()\n",
    "    for xb, in loader_c:\n",
    "        pred = model_c(xb)\n",
    "        loss = criterion(pred, xb)\n",
    "        optimizer.zero_grad()\n",
    "        loss.backward()\n",
    "        optimizer.step()\n",
    "    if epoch % 10 == 0:\n",
    "        print(f\"Epoch {epoch} | Loss: {loss.item():.6f}\")"
   ]
  },
  {
   "cell_type": "code",
   "execution_count": 236,
   "id": "c7c03d20-1a30-416f-8cb0-4eaae150ea10",
   "metadata": {},
   "outputs": [],
   "source": [
    "model_c.eval()\n",
    "with torch.no_grad():\n",
    "    X_reconstructed = model_c(X_tensor_c).numpy()\n",
    "\n",
    "reconstruction_errors = np.mean((X_c_scaled - X_reconstructed) ** 2, axis=1)\n",
    "df_c['Reconstruction_Error'] = reconstruction_errors"
   ]
  },
  {
   "cell_type": "code",
   "execution_count": null,
   "id": "5feb7ba8-99c4-4db3-8242-80abf9018a5a",
   "metadata": {},
   "outputs": [],
   "source": []
  },
  {
   "cell_type": "code",
   "execution_count": 239,
   "id": "aa793682-caee-4c3f-9800-63c6630011c0",
   "metadata": {},
   "outputs": [],
   "source": [
    "threshold = np.percentile(reconstruction_errors, 90)\n",
    "df_c['Anomaly'] = (df_c['Reconstruction_Error'] > threshold).astype(int)"
   ]
  },
  {
   "cell_type": "code",
   "execution_count": 249,
   "id": "935b39f7-e1c9-4fbc-ae88-5d0ba746de86",
   "metadata": {},
   "outputs": [
    {
     "name": "stdout",
     "output_type": "stream",
     "text": [
      "     Year  Season Station  Reconstruction_Error  Anomaly\n",
      "514  2002  Spring    KNTD              0.022696        1\n",
      "519  2003  Summer    KNTD              0.021141        1\n",
      "606  2001    Fall   OZNC1              0.020337        1\n",
      "648  2012  Spring   OZNC1              0.018431        1\n",
      "649  2012  Summer   OZNC1              0.018184        1\n",
      "529  2006    Fall    KNTD              0.009437        1\n",
      "520  2003  Winter    KNTD              0.008781        1\n",
      "310  2001  Winter   DVLC1              0.008612        1\n",
      "609  2002  Summer   OZNC1              0.007975        1\n",
      "471  2016  Winter   LCBC1              0.007760        1\n",
      "424  2005    Fall   LCBC1              0.006902        1\n",
      "565  2015    Fall    KNTD              0.006818        1\n",
      "559  2013  Summer    KNTD              0.006528        1\n",
      "679  2020    Fall   OZNC1              0.006217        1\n",
      "622  2005  Winter   OZNC1              0.006137        1\n",
      "616  2004  Spring   OZNC1              0.006024        1\n",
      "241  2009  Winter   CEEC1              0.005990        1\n",
      "615  2004    Fall   OZNC1              0.005807        1\n",
      "661  2015  Summer   OZNC1              0.005802        1\n",
      "694  2023  Winter   OZNC1              0.005772        1\n"
     ]
    }
   ],
   "source": [
    "# If you have 'Station' as one-hot columns\n",
    "station_cols = [col for col in df_c.columns if col.startswith(\"Station_\")]\n",
    "df_c['Station'] = df_c[station_cols].idxmax(axis=1).str.replace(\"Station_\", \"\")\n",
    "\n",
    "# View top 10\n",
    "print(df_c[['Year', 'Season', 'Station', 'Reconstruction_Error', 'Anomaly']].sort_values('Reconstruction_Error', ascending=False).head(20))"
   ]
  },
  {
   "cell_type": "code",
   "execution_count": 251,
   "id": "16bf010f-9010-40f2-bfd4-eb959dca718a",
   "metadata": {},
   "outputs": [
    {
     "data": {
      "image/png": "[encoded data removed]",
      "text/plain": [
       "<Figure size 640x480 with 1 Axes>"
      ]
     },
     "metadata": {},
     "output_type": "display_data"
    }
   ],
   "source": [
    "import matplotlib.pyplot as plt\n",
    "plt.scatter(y_true_fires, y_pred_fires, label='Fires')\n",
    "plt.plot([min(y_true_fires), max(y_true_fires)], [min(y_true_fires), max(y_true_fires)], 'r--')\n",
    "plt.title(\"Model A: Predicted vs Actual Fires\")\n",
    "plt.xlabel(\"Actual\")\n",
    "plt.ylabel(\"Predicted\")\n",
    "plt.grid()"
   ]
  },
  {
   "cell_type": "code",
   "execution_count": 261,
   "id": "a60366db-43d9-4833-a86f-38256c802e03",
   "metadata": {},
   "outputs": [],
   "source": [
    "#model b\n",
    "model_b_weighted.eval()\n",
    "\n",
    "# Predict probabilities\n",
    "with torch.no_grad():\n",
    "    y_probs = torch.sigmoid(model_b_weighted(torch.tensor(X_b_scaled, dtype=torch.float32))).numpy().flatten()\n",
    "\n",
    "# Your true labels\n",
    "y_true = y_b  # should already be defined as your binary high-risk labels"
   ]
  },
  {
   "cell_type": "code",
   "execution_count": 263,
   "id": "08f079ed-a1a0-4fa0-a2a3-6d16d9dc95e7",
   "metadata": {},
   "outputs": [
    {
     "data": {
      "image/png": "[encoded data removed]",
      "text/plain": [
       "<Figure size 600x500 with 1 Axes>"
      ]
     },
     "metadata": {},
     "output_type": "display_data"
    }
   ],
   "source": [
    "from sklearn.metrics import roc_curve, auc\n",
    "import matplotlib.pyplot as plt\n",
    "\n",
    "fpr, tpr, _ = roc_curve(y_true, y_probs)\n",
    "roc_auc = auc(fpr, tpr)\n",
    "\n",
    "plt.figure(figsize=(6, 5))\n",
    "plt.plot(fpr, tpr, label=f\"AUC = {roc_auc:.2f}\")\n",
    "plt.plot([0, 1], [0, 1], 'k--', label='Random')\n",
    "plt.xlabel(\"False Positive Rate\")\n",
    "plt.ylabel(\"True Positive Rate\")\n",
    "plt.title(\"Model B ROC Curve\")\n",
    "plt.legend()\n",
    "plt.grid(True)\n",
    "plt.show()"
   ]
  },
  {
   "cell_type": "code",
   "execution_count": 265,
   "id": "dd4f7cd7-5acd-4dfb-ad30-018b511a28b4",
   "metadata": {},
   "outputs": [
    {
     "data": {
      "image/png": "[encoded data removed]",
      "text/plain": [
       "<Figure size 1200x500 with 1 Axes>"
      ]
     },
     "metadata": {},
     "output_type": "display_data"
    }
   ],
   "source": [
    "#model C\n",
    "import matplotlib.pyplot as plt\n",
    "df_c[df_c['Anomaly'] == 1]['Station'].value_counts().plot(\n",
    "    kind='barh',\n",
    "    title=\"Anomalies by Station (Model C)\",\n",
    "    figsize=(8, 5),\n",
    "    color='tomato'\n",
    ")\n",
    "plt.xlabel(\"Anomaly Count\")\n",
    "plt.grid(axis='x')\n",
    "plt.tight_layout()\n",
    "plt.show()\n",
    "\n",
    "plt.figure(figsize=(12, 5))\n",
    "plt.plot(df_c.index, df_c['Reconstruction_Error'], label='Reconstruction Error', marker='o')\n",
    "plt.axhline(np.percentile(df_c['Reconstruction_Error'], 90), color='red', linestyle='--', label='Anomaly Threshold (90th percentile)')\n",
    "plt.title(\"Model C: Autoencoder Reconstruction Error Over Time\")\n",
    "plt.xlabel(\"Seasonal Record Index\")\n",
    "plt.ylabel(\"Reconstruction Error\")\n",
    "plt.legend()\n",
    "plt.grid(True)\n",
    "plt.tight_layout()\n",
    "plt.show()"
   ]
  },
  {
   "cell_type": "code",
   "execution_count": 267,
   "id": "5ce719a5-cf81-45ff-8062-7b5d7296a0e6",
   "metadata": {},
   "outputs": [
    {
     "data": {
      "image/png": "[encoded data removed]",
      "text/plain": [
       "<Figure size 800x500 with 1 Axes>"
      ]
     },
     "metadata": {},
     "output_type": "display_data"
    }
   ],
   "source": [
    "df_c[df_c['Anomaly'] == 1]['Station'].value_counts().plot(\n",
    "    kind='barh',\n",
    "    title=\"Anomalies by Station (Model C)\",\n",
    "    figsize=(8, 5),\n",
    "    color='tomato'\n",
    ")\n",
    "plt.xlabel(\"Anomaly Count\")\n",
    "plt.grid(axis='x')\n",
    "plt.tight_layout()\n",
    "plt.show()"
   ]
  }
 ],
 "metadata": {
  "kernelspec": {
   "display_name": "Python [conda env:base] *",
   "language": "python",
   "name": "conda-base-py"
  },
  "language_info": {
   "codemirror_mode": {
    "name": "ipython",
    "version": 3
   },
   "file_extension": ".py",
   "mimetype": "text/x-python",
   "name": "python",
   "nbconvert_exporter": "python",
   "pygments_lexer": "ipython3",
   "version": "3.12.7"
  }
 },
 "nbformat": 4,
 "nbformat_minor": 5
}
